{
 "cells": [
  {
   "cell_type": "code",
   "execution_count": 20,
   "metadata": {},
   "outputs": [],
   "source": [
    "import requests\n",
    "from bs4 import BeautifulSoup\n",
    "import csv\n",
    "import pandas as pd\n"
   ]
  },
  {
   "cell_type": "code",
   "execution_count": 2,
   "metadata": {},
   "outputs": [],
   "source": [
    "url = 'https://www.reddit.com/r/stocks/'"
   ]
  },
  {
   "cell_type": "code",
   "execution_count": 3,
   "metadata": {},
   "outputs": [],
   "source": [
    "headers = {'User-Agent': 'Mozilla/5.0 (Windows NT 10.0; Win64; x64) AppleWebKit/537.36 (KHTML, like Gecko) Chrome/58.0.3029.110 Safari/537.3'}\n"
   ]
  },
  {
   "cell_type": "code",
   "execution_count": 4,
   "metadata": {},
   "outputs": [],
   "source": [
    "response = requests.get(url, headers=headers)\n"
   ]
  },
  {
   "cell_type": "code",
   "execution_count": 6,
   "metadata": {},
   "outputs": [],
   "source": [
    "soup = BeautifulSoup(response.content, 'html.parser')\n"
   ]
  },
  {
   "cell_type": "code",
   "execution_count": 7,
   "metadata": {},
   "outputs": [],
   "source": [
    "post_titles = soup.find_all('h3', class_='_eYtD2XCVieq6emjKBH3m')\n"
   ]
  },
  {
   "cell_type": "code",
   "execution_count": 9,
   "metadata": {},
   "outputs": [
    {
     "name": "stdout",
     "output_type": "stream",
     "text": [
      "Rate My Portfolio - r/Stocks Quarterly Thread March 2023\n",
      "r/Stocks Daily Discussion Wednesday - Mar 01, 2023\n",
      "Nvidia files mixed shelf offering of up to $10 bln\n",
      "Never miss another trade! Accurate trading signals. 7-day free trial.\n",
      "TSLA plant in Monterrey, Mexico confirmed\n",
      "Malaysia Approves Tesla's Application to Import Electric Vehicles\n",
      "Rivian posts mixed fourth quarter and underwhelming EV production outlook\n"
     ]
    }
   ],
   "source": [
    "for title in post_titles:\n",
    "    print(title.text)"
   ]
  },
  {
   "cell_type": "code",
   "execution_count": 8,
   "metadata": {},
   "outputs": [],
   "source": [
    "comments = soup.find_all('div', class_='s1i5v164-5')\n"
   ]
  },
  {
   "cell_type": "code",
   "execution_count": 10,
   "metadata": {},
   "outputs": [],
   "source": [
    "for comment in comments:\n",
    "    print(comment.text)"
   ]
  },
  {
   "cell_type": "code",
   "execution_count": 12,
   "metadata": {},
   "outputs": [],
   "source": []
  },
  {
   "cell_type": "code",
   "execution_count": 13,
   "metadata": {},
   "outputs": [],
   "source": [
    "for title in post_titles:\n",
    "    shares_tag = title.parent.parent.find('span', class_='_3jOxDPIQ0KaOWpzvSQo-1s')\n",
    "    if shares_tag is not None:\n",
    "        shares = shares_tag.text.split()[0] # extract the number from the text\n",
    "        print(f\"Post Title: {title.text}, Shares: {shares}\")"
   ]
  },
  {
   "cell_type": "code",
   "execution_count": 15,
   "metadata": {},
   "outputs": [],
   "source": [
    "for title in post_titles:\n",
    "    comments_tag = title.parent.parent.find('span', class_='FHCV02u6Cp2zYL0fhQPsO')\n",
    "    if comments_tag is not None:\n",
    "        comments = comments_tag.text.split()[0] # extract the number from the text\n",
    "        print(f\"Post Title: {title.text}, Comments: {comments}\")\n",
    "    "
   ]
  },
  {
   "cell_type": "code",
   "execution_count": 34,
   "metadata": {},
   "outputs": [],
   "source": [
    "data = []\n",
    "for post in post_titles:\n",
    "    title = post.text.strip()\n",
    "    likes = post.parent.parent.find('div', class_='_1E9mcoVn4MYnuBQSVDt1gC')\n",
    "    \n",
    "    comments = post.parent.parent.find('span', class_='FHCV02u6Cp2zYL0fhQPsO')\n",
    "    \n",
    "    shares = post.parent.parent.find_all('span', class_='FHCV02u6Cp2zYL0fhQPsO')\n",
    "   \n",
    "    category = post.parent.parent.find('a', class_='_13svhQIUZqD9PVzFcLwOKT')\n",
    "    \n",
    "    data.append([title, likes, comments, shares, category])\n"
   ]
  },
  {
   "cell_type": "code",
   "execution_count": 35,
   "metadata": {},
   "outputs": [],
   "source": [
    "with open('reddit_top_posts.csv', mode='w', newline='', encoding='utf-8') as file:\n",
    "    writer = csv.writer(file)\n",
    "    writer.writerow(['Title', 'Likes', 'Comments', 'Shares', 'Category'])\n",
    "    writer.writerows(data)"
   ]
  },
  {
   "cell_type": "code",
   "execution_count": 36,
   "metadata": {},
   "outputs": [
    {
     "name": "stdout",
     "output_type": "stream",
     "text": [
      "                                               Title  Likes  Comments Shares  \\\n",
      "0  Rate My Portfolio - r/Stocks Quarterly Thread ...    NaN       NaN     []   \n",
      "1  r/Stocks Daily Discussion Wednesday - Mar 01, ...    NaN       NaN     []   \n",
      "2  Nvidia files mixed shelf offering of up to $10...    NaN       NaN     []   \n",
      "3  Never miss another trade! Accurate trading sig...    NaN       NaN     []   \n",
      "4          TSLA plant in Monterrey, Mexico confirmed    NaN       NaN     []   \n",
      "\n",
      "   Category  \n",
      "0       NaN  \n",
      "1       NaN  \n",
      "2       NaN  \n",
      "3       NaN  \n",
      "4       NaN  \n"
     ]
    }
   ],
   "source": [
    "df = pd.read_csv('reddit_top_posts.csv')\n",
    "print(df.head())"
   ]
  }
 ],
 "metadata": {
  "kernelspec": {
   "display_name": "Python 3",
   "language": "python",
   "name": "python3"
  },
  "language_info": {
   "codemirror_mode": {
    "name": "ipython",
    "version": 3
   },
   "file_extension": ".py",
   "mimetype": "text/x-python",
   "name": "python",
   "nbconvert_exporter": "python",
   "pygments_lexer": "ipython3",
   "version": "3.10.1"
  },
  "orig_nbformat": 4,
  "vscode": {
   "interpreter": {
    "hash": "26de051ba29f2982a8de78e945f0abaf191376122a1563185a90213a26c5da77"
   }
  }
 },
 "nbformat": 4,
 "nbformat_minor": 2
}
